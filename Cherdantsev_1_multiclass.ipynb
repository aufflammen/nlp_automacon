{
 "cells": [
  {
   "cell_type": "markdown",
   "metadata": {},
   "source": [
    "# 1. Texts classification (multiclass)"
   ]
  },
  {
   "cell_type": "markdown",
   "metadata": {},
   "source": [
    "Тестовое задание в компанию [**Automacon**](https://automacon.ru/).\n",
    "\n",
    "**Исходные данные:** [link](https://www.kaggle.com/datasets/kushagra3204/sentiment-and-emotion-analysis-dataset)\n",
    "\n",
    "**Задача:** обучить две модели классификации текстов для каждого из датасетов.\n",
    "\n",
    "В данном ноутбуке рассмотрена работа с первым датасетом для мультиклассификации на 6 классов. Построение модели бинарной классификации для другого датасета находится во втором ноутбуке."
   ]
  },
  {
   "cell_type": "markdown",
   "metadata": {},
   "source": [
    "## Imports"
   ]
  },
  {
   "cell_type": "code",
   "execution_count": 1,
   "metadata": {},
   "outputs": [],
   "source": [
    "# !pip install datasets evaluate peft"
   ]
  },
  {
   "cell_type": "code",
   "execution_count": 2,
   "metadata": {},
   "outputs": [],
   "source": [
    "import gc\n",
    "from pathlib import Path\n",
    "import matplotlib.pyplot as plt\n",
    "import seaborn as sns\n",
    "import pandas as pd\n",
    "import numpy as np\n",
    "from termcolor import colored\n",
    "from tqdm.auto import tqdm\n",
    "\n",
    "from sklearn.model_selection import train_test_split\n",
    "from sklearn.metrics import classification_report, ConfusionMatrixDisplay\n",
    "\n",
    "import torch\n",
    "from torch import optim\n",
    "from torch.utils.data import DataLoader\n",
    "\n",
    "from transformers import (\n",
    "    AutoModelForSequenceClassification,\n",
    "    AutoTokenizer,\n",
    "    DataCollatorWithPadding,\n",
    "    Trainer, \n",
    "    TrainingArguments,\n",
    "    TrainerCallback,\n",
    ")\n",
    "from peft import get_peft_model, LoraConfig, TaskType, PeftModel\n",
    "from datasets import Dataset, DatasetDict\n",
    "import evaluate"
   ]
  },
  {
   "cell_type": "code",
   "execution_count": 3,
   "metadata": {},
   "outputs": [],
   "source": [
    "pd.set_option('display.max_colwidth', 100)\n",
    "\n",
    "sns.set_style('whitegrid')\n",
    "sns.set_palette('muted')"
   ]
  },
  {
   "cell_type": "markdown",
   "metadata": {},
   "source": [
    "## Functions"
   ]
  },
  {
   "cell_type": "code",
   "execution_count": 4,
   "metadata": {},
   "outputs": [],
   "source": [
    "def torch_device() -> str:\n",
    "    \"\"\"Вовзращает строку 'cuda' при наличии оборудования, иначе 'cpu'.\"\"\"\n",
    "    device = 'cuda' if torch.cuda.is_available() else 'cpu'\n",
    "    print(f\"torch use: {colored(device, 'green', attrs=['bold'])}\", \n",
    "          f\"({torch.cuda.get_device_name()})\"\n",
    "          if torch.cuda.is_available() else \"\")\n",
    "    return device"
   ]
  },
  {
   "cell_type": "code",
   "execution_count": 5,
   "metadata": {},
   "outputs": [],
   "source": [
    "def df_info(df: pd.DataFrame):\n",
    "    \"\"\"Вывод первых строк таблицы pandas и количества пропусков для каждой колонки.\"\"\"\n",
    "    display(df.head())\n",
    "    print(colored('Shape:', attrs=['bold']), df.shape, '\\n')\n",
    "    print(colored('Missing values:', attrs=['bold']))\n",
    "    print(df.isna().sum().to_string(index=True))"
   ]
  },
  {
   "cell_type": "code",
   "execution_count": 6,
   "metadata": {},
   "outputs": [],
   "source": [
    "def hist_box_chart(data: list[float | int], title: str | None = None) -> None:\n",
    "    \"\"\"Построение гистограммы и boxplot для списка значений.\"\"\"\n",
    "    fig, ax = plt.subplots(2, figsize=(11, 3.5), sharex=True, gridspec_kw={\"height_ratios\": (1, .15)})\n",
    "    \n",
    "    sns.histplot(data=data, ax=ax[0], kde=True, bins=min(150, np.unique(data).shape[0]), stat='density')\n",
    "    ax[0].axvline(x=np.median(data), color='black', alpha=.5, label=f'median ({np.median(data):.2f})')\n",
    "    ax[0].axvline(x=np.mean(data), color='black', alpha=.5, label=f'mean ({np.mean(data):.2f})', linestyle='dashed')\n",
    "    ax[0].set(title=title, xlabel='', ylabel='')\n",
    "    ax[0].legend()\n",
    "\n",
    "    sns.boxplot(data=data, ax=ax[1], boxprops={'alpha': .5}, orient='y')\n",
    "    ax[1].set(xlabel='count', ylabel='')"
   ]
  },
  {
   "cell_type": "code",
   "execution_count": 7,
   "metadata": {},
   "outputs": [],
   "source": [
    "class Ansi:\n",
    "    bold = '\\033[1m'\n",
    "    end = '\\033[0m'\n",
    "\n",
    "def get_model_size(model) -> str:\n",
    "    \"\"\"Вывод размера модели в миллионах параметров.\"\"\"\n",
    "    model_size = sum(p.numel() for p in model.parameters()) / 1e6\n",
    "    model_size_train = sum(p.numel() for p in model.parameters() if p.requires_grad) / 1e6\n",
    "    print(f\"Model_size: {Ansi.bold}{model_size:.2f}{Ansi.end}M params\", end='')\n",
    "\n",
    "    if model_size_train < model_size:\n",
    "        print(f\" || Trainable params: {Ansi.bold}{model_size_train:.2f}{Ansi.end}M \"\n",
    "              f\"({Ansi.bold}{model_size_train / model_size:.4%}{Ansi.end})\")\n",
    "\n",
    "\n",
    "def get_requires_grad(model, detail=True, only_true=False) -> str:\n",
    "    \"\"\"Вывод названий слоев модели для которых 'разморожены' градиенты.\"\"\"\n",
    "    params = {name: p.requires_grad for name, p in model.named_parameters()}\n",
    "    params = pd.Series(params)\n",
    "\n",
    "    get_model_size(model)\n",
    "\n",
    "    print(f\"\\n{Ansi.bold}Requires grad:{Ansi.end}\")\n",
    "    print(f\"True:  {Ansi.bold}{params.sum()}{Ansi.end}\")\n",
    "    print(f\"False: {Ansi.bold}{(~params).sum()}{Ansi.end}\")\n",
    "\n",
    "    if detail:\n",
    "        print()\n",
    "        if only_true:\n",
    "            print(params[params].to_string(index=True))\n",
    "        else:\n",
    "            print(params.to_string(index=True))\n"
   ]
  },
  {
   "cell_type": "code",
   "execution_count": 8,
   "metadata": {},
   "outputs": [
    {
     "name": "stdout",
     "output_type": "stream",
     "text": [
      "torch use: \u001b[1m\u001b[32mcuda\u001b[0m (AMD Radeon RX 7800 XT)\n"
     ]
    }
   ],
   "source": [
    "SEED = 42\n",
    "DEVICE = torch_device()"
   ]
  },
  {
   "cell_type": "code",
   "execution_count": 9,
   "metadata": {},
   "outputs": [],
   "source": [
    "np.random.seed(SEED)\n",
    "torch.manual_seed(SEED)\n",
    "torch.cuda.manual_seed_all(SEED)"
   ]
  },
  {
   "cell_type": "markdown",
   "metadata": {},
   "source": [
    "## Load data"
   ]
  },
  {
   "cell_type": "markdown",
   "metadata": {},
   "source": [
    "Загружаем данные."
   ]
  },
  {
   "cell_type": "code",
   "execution_count": 10,
   "metadata": {},
   "outputs": [],
   "source": [
    "data = pd.read_csv('combined_emotion.csv')"
   ]
  },
  {
   "cell_type": "code",
   "execution_count": 11,
   "metadata": {},
   "outputs": [
    {
     "data": {
      "text/html": [
       "<div>\n",
       "<style scoped>\n",
       "    .dataframe tbody tr th:only-of-type {\n",
       "        vertical-align: middle;\n",
       "    }\n",
       "\n",
       "    .dataframe tbody tr th {\n",
       "        vertical-align: top;\n",
       "    }\n",
       "\n",
       "    .dataframe thead th {\n",
       "        text-align: right;\n",
       "    }\n",
       "</style>\n",
       "<table border=\"1\" class=\"dataframe\">\n",
       "  <thead>\n",
       "    <tr style=\"text-align: right;\">\n",
       "      <th></th>\n",
       "      <th>sentence</th>\n",
       "      <th>emotion</th>\n",
       "    </tr>\n",
       "  </thead>\n",
       "  <tbody>\n",
       "    <tr>\n",
       "      <th>0</th>\n",
       "      <td>i just feel really helpless and heavy hearted</td>\n",
       "      <td>fear</td>\n",
       "    </tr>\n",
       "    <tr>\n",
       "      <th>1</th>\n",
       "      <td>ive enjoyed being able to slouch about relax and unwind and frankly needed it after those last f...</td>\n",
       "      <td>sad</td>\n",
       "    </tr>\n",
       "    <tr>\n",
       "      <th>2</th>\n",
       "      <td>i gave up my internship with the dmrg and am feeling distraught</td>\n",
       "      <td>fear</td>\n",
       "    </tr>\n",
       "    <tr>\n",
       "      <th>3</th>\n",
       "      <td>i dont know i feel so lost</td>\n",
       "      <td>sad</td>\n",
       "    </tr>\n",
       "    <tr>\n",
       "      <th>4</th>\n",
       "      <td>i am a kindergarten teacher and i am thoroughly weary of my job after having taken the universit...</td>\n",
       "      <td>fear</td>\n",
       "    </tr>\n",
       "  </tbody>\n",
       "</table>\n",
       "</div>"
      ],
      "text/plain": [
       "                                                                                              sentence  \\\n",
       "0                                                        i just feel really helpless and heavy hearted   \n",
       "1  ive enjoyed being able to slouch about relax and unwind and frankly needed it after those last f...   \n",
       "2                                      i gave up my internship with the dmrg and am feeling distraught   \n",
       "3                                                                           i dont know i feel so lost   \n",
       "4  i am a kindergarten teacher and i am thoroughly weary of my job after having taken the universit...   \n",
       "\n",
       "  emotion  \n",
       "0    fear  \n",
       "1     sad  \n",
       "2    fear  \n",
       "3     sad  \n",
       "4    fear  "
      ]
     },
     "metadata": {},
     "output_type": "display_data"
    },
    {
     "name": "stdout",
     "output_type": "stream",
     "text": [
      "\u001b[1mShape:\u001b[0m (422746, 2) \n",
      "\n",
      "\u001b[1mMissing values:\u001b[0m\n",
      "sentence    0\n",
      "emotion     0\n"
     ]
    }
   ],
   "source": [
    "df_info(data)"
   ]
  },
  {
   "cell_type": "markdown",
   "metadata": {},
   "source": [
    "Пропущенных значений в данных нет. Проверим наличие дубликатов."
   ]
  },
  {
   "cell_type": "code",
   "execution_count": 12,
   "metadata": {},
   "outputs": [
    {
     "name": "stdout",
     "output_type": "stream",
     "text": [
      "Количество полных дубликатов: 6623\n",
      "Количество дубликатов в столбце sentence: 28924\n"
     ]
    }
   ],
   "source": [
    "print('Количество полных дубликатов:', data.duplicated().sum())\n",
    "print('Количество дубликатов в столбце sentence:', data['sentence'].duplicated().sum())"
   ]
  },
  {
   "cell_type": "markdown",
   "metadata": {},
   "source": [
    "В данных присутствует некоторое количество дублей, причем присутствую дубликаты текстов у которых разное значение целевого признака. Вот пример:"
   ]
  },
  {
   "cell_type": "code",
   "execution_count": 13,
   "metadata": {},
   "outputs": [
    {
     "data": {
      "text/html": [
       "<div>\n",
       "<style scoped>\n",
       "    .dataframe tbody tr th:only-of-type {\n",
       "        vertical-align: middle;\n",
       "    }\n",
       "\n",
       "    .dataframe tbody tr th {\n",
       "        vertical-align: top;\n",
       "    }\n",
       "\n",
       "    .dataframe thead th {\n",
       "        text-align: right;\n",
       "    }\n",
       "</style>\n",
       "<table border=\"1\" class=\"dataframe\">\n",
       "  <thead>\n",
       "    <tr style=\"text-align: right;\">\n",
       "      <th></th>\n",
       "      <th>sentence</th>\n",
       "      <th>emotion</th>\n",
       "    </tr>\n",
       "  </thead>\n",
       "  <tbody>\n",
       "    <tr>\n",
       "      <th>28</th>\n",
       "      <td>when</td>\n",
       "      <td>anger</td>\n",
       "    </tr>\n",
       "    <tr>\n",
       "      <th>183069</th>\n",
       "      <td>when</td>\n",
       "      <td>sad</td>\n",
       "    </tr>\n",
       "    <tr>\n",
       "      <th>204577</th>\n",
       "      <td>when</td>\n",
       "      <td>fear</td>\n",
       "    </tr>\n",
       "    <tr>\n",
       "      <th>244470</th>\n",
       "      <td>when</td>\n",
       "      <td>joy</td>\n",
       "    </tr>\n",
       "  </tbody>\n",
       "</table>\n",
       "</div>"
      ],
      "text/plain": [
       "       sentence emotion\n",
       "28         when   anger\n",
       "183069     when     sad\n",
       "204577     when    fear\n",
       "244470     when     joy"
      ]
     },
     "execution_count": 13,
     "metadata": {},
     "output_type": "execute_result"
    }
   ],
   "source": [
    "data[data['sentence'] == 'when']"
   ]
  },
  {
   "cell_type": "markdown",
   "metadata": {},
   "source": [
    "Это говорит о том, что разметка выполнена не идеально и в ней могут быть некоторые неточности. Но так как подобных примеров относительно размера датасета не так много, то это не должно сильно нам помешать.  \n",
    "\n",
    "Удалим из датасета все дубликаты в столбце `sentence`."
   ]
  },
  {
   "cell_type": "code",
   "execution_count": 14,
   "metadata": {},
   "outputs": [],
   "source": [
    "data = data.drop_duplicates(subset=['sentence'])"
   ]
  },
  {
   "cell_type": "code",
   "execution_count": 15,
   "metadata": {},
   "outputs": [
    {
     "data": {
      "image/png": "[encoded data removed]",
      "text/plain": [
       "<Figure size 640x480 with 1 Axes>"
      ]
     },
     "metadata": {},
     "output_type": "display_data"
    }
   ],
   "source": [
    "sns.barplot(data['emotion'].value_counts(normalize=True))\n",
    "plt.title('Class distribution')\n",
    "plt.show()"
   ]
  },
  {
   "cell_type": "markdown",
   "metadata": {},
   "source": [
    "В датасете присутствует дисбаланс классов."
   ]
  },
  {
   "cell_type": "code",
   "execution_count": 16,
   "metadata": {},
   "outputs": [
    {
     "data": {
      "image/png": "[encoded data removed]",
      "text/plain": [
       "<Figure size 1100x350 with 2 Axes>"
      ]
     },
     "metadata": {},
     "output_type": "display_data"
    }
   ],
   "source": [
    "cnt_words = [len(text.split()) for text in data['sentence'].tolist()]\n",
    "\n",
    "hist_box_chart(cnt_words, 'Count words')"
   ]
  },
  {
   "cell_type": "markdown",
   "metadata": {},
   "source": [
    "Распределение длин текстов похоже на логнормальное, наблюдается длинный правый хвост. Средняя длина текста составляет примерно 19 слов.  \n",
    "\n",
    "Составим словари для преобразования названия класса в индекс и обратно."
   ]
  },
  {
   "cell_type": "code",
   "execution_count": 17,
   "metadata": {},
   "outputs": [
    {
     "name": "stdout",
     "output_type": "stream",
     "text": [
      "{0: 'anger', 1: 'fear', 2: 'joy', 3: 'love', 4: 'sad', 5: 'suprise'}\n"
     ]
    }
   ],
   "source": [
    "id2label = {k: v for k, v in enumerate(sorted(data['emotion'].unique()))}\n",
    "label2id = {v: k for k, v in id2label.items()}\n",
    "\n",
    "print(id2label)"
   ]
  },
  {
   "cell_type": "markdown",
   "metadata": {},
   "source": [
    "Целевой признак представим в виде числовых значений."
   ]
  },
  {
   "cell_type": "code",
   "execution_count": 18,
   "metadata": {},
   "outputs": [
    {
     "data": {
      "text/html": [
       "<div>\n",
       "<style scoped>\n",
       "    .dataframe tbody tr th:only-of-type {\n",
       "        vertical-align: middle;\n",
       "    }\n",
       "\n",
       "    .dataframe tbody tr th {\n",
       "        vertical-align: top;\n",
       "    }\n",
       "\n",
       "    .dataframe thead th {\n",
       "        text-align: right;\n",
       "    }\n",
       "</style>\n",
       "<table border=\"1\" class=\"dataframe\">\n",
       "  <thead>\n",
       "    <tr style=\"text-align: right;\">\n",
       "      <th></th>\n",
       "      <th>sentence</th>\n",
       "      <th>label</th>\n",
       "    </tr>\n",
       "  </thead>\n",
       "  <tbody>\n",
       "    <tr>\n",
       "      <th>0</th>\n",
       "      <td>i just feel really helpless and heavy hearted</td>\n",
       "      <td>1</td>\n",
       "    </tr>\n",
       "    <tr>\n",
       "      <th>1</th>\n",
       "      <td>ive enjoyed being able to slouch about relax and unwind and frankly needed it after those last f...</td>\n",
       "      <td>4</td>\n",
       "    </tr>\n",
       "    <tr>\n",
       "      <th>2</th>\n",
       "      <td>i gave up my internship with the dmrg and am feeling distraught</td>\n",
       "      <td>1</td>\n",
       "    </tr>\n",
       "    <tr>\n",
       "      <th>3</th>\n",
       "      <td>i dont know i feel so lost</td>\n",
       "      <td>4</td>\n",
       "    </tr>\n",
       "    <tr>\n",
       "      <th>4</th>\n",
       "      <td>i am a kindergarten teacher and i am thoroughly weary of my job after having taken the universit...</td>\n",
       "      <td>1</td>\n",
       "    </tr>\n",
       "  </tbody>\n",
       "</table>\n",
       "</div>"
      ],
      "text/plain": [
       "                                                                                              sentence  \\\n",
       "0                                                        i just feel really helpless and heavy hearted   \n",
       "1  ive enjoyed being able to slouch about relax and unwind and frankly needed it after those last f...   \n",
       "2                                      i gave up my internship with the dmrg and am feeling distraught   \n",
       "3                                                                           i dont know i feel so lost   \n",
       "4  i am a kindergarten teacher and i am thoroughly weary of my job after having taken the universit...   \n",
       "\n",
       "   label  \n",
       "0      1  \n",
       "1      4  \n",
       "2      1  \n",
       "3      4  \n",
       "4      1  "
      ]
     },
     "execution_count": 18,
     "metadata": {},
     "output_type": "execute_result"
    }
   ],
   "source": [
    "data['emotion'] = data['emotion'].apply(lambda x: label2id[x])\n",
    "data = data.rename(columns={'emotion': 'label'})\n",
    "data.head()"
   ]
  },
  {
   "cell_type": "markdown",
   "metadata": {},
   "source": [
    "## Dataset"
   ]
  },
  {
   "cell_type": "markdown",
   "metadata": {},
   "source": [
    "Разделим исходный датасет на 3 выборки: train, val, test; в соотношении **80-10-10**. При разбиении применим стратификацию по таргету."
   ]
  },
  {
   "cell_type": "code",
   "execution_count": 19,
   "metadata": {},
   "outputs": [],
   "source": [
    "train_data, val_test_data = train_test_split(\n",
    "    data, \n",
    "    test_size=.2, \n",
    "    shuffle=True, \n",
    "    random_state=SEED, \n",
    "    stratify=data['label']\n",
    ")\n",
    "\n",
    "val_data, test_data = train_test_split(\n",
    "    val_test_data, \n",
    "    test_size=.5, \n",
    "    shuffle=True, \n",
    "    random_state=SEED, \n",
    "    stratify=val_test_data['label']\n",
    ")"
   ]
  },
  {
   "cell_type": "markdown",
   "metadata": {},
   "source": [
    "Для дальнейшей работы с данными воспользуемся удобной библиотекой datasets."
   ]
  },
  {
   "cell_type": "code",
   "execution_count": 20,
   "metadata": {},
   "outputs": [
    {
     "data": {
      "text/plain": [
       "DatasetDict({\n",
       "    train: Dataset({\n",
       "        features: ['sentence', 'label'],\n",
       "        num_rows: 315057\n",
       "    })\n",
       "    val: Dataset({\n",
       "        features: ['sentence', 'label'],\n",
       "        num_rows: 39382\n",
       "    })\n",
       "    test: Dataset({\n",
       "        features: ['sentence', 'label'],\n",
       "        num_rows: 39383\n",
       "    })\n",
       "})"
      ]
     },
     "execution_count": 20,
     "metadata": {},
     "output_type": "execute_result"
    }
   ],
   "source": [
    "dataset = DatasetDict({\n",
    "    'train': Dataset.from_pandas(train_data, preserve_index=False),\n",
    "    'val': Dataset.from_pandas(val_data, preserve_index=False),\n",
    "    'test': Dataset.from_pandas(test_data, preserve_index=False),\n",
    "})\n",
    "\n",
    "dataset"
   ]
  },
  {
   "cell_type": "markdown",
   "metadata": {},
   "source": [
    "В качестве модели возьмем [**cirimus/modernbert-base-go-emotions**](https://huggingface.co/cirimus/modernbert-base-go-emotions). Данная модель была дообучена на задачу мультилейбл классификации текстов на 28 классов по эмоциональной окраске.\n",
    "\n",
    "В исходной модели заменим выходной слой классификации на подходящий для нашей задачи."
   ]
  },
  {
   "cell_type": "code",
   "execution_count": 21,
   "metadata": {},
   "outputs": [
    {
     "name": "stderr",
     "output_type": "stream",
     "text": [
      "Some weights of ModernBertForSequenceClassification were not initialized from the model checkpoint at cirimus/modernbert-base-go-emotions and are newly initialized because the shapes did not match:\n",
      "- classifier.bias: found shape torch.Size([28]) in the checkpoint and torch.Size([6]) in the model instantiated\n",
      "- classifier.weight: found shape torch.Size([28, 768]) in the checkpoint and torch.Size([6, 768]) in the model instantiated\n",
      "You should probably TRAIN this model on a down-stream task to be able to use it for predictions and inference.\n"
     ]
    },
    {
     "name": "stdout",
     "output_type": "stream",
     "text": [
      "Model_size: \u001b[1m149.61\u001b[0mM params"
     ]
    }
   ],
   "source": [
    "model_name = 'cirimus/modernbert-base-go-emotions'\n",
    "\n",
    "model = AutoModelForSequenceClassification.from_pretrained(\n",
    "    model_name, \n",
    "    num_labels=len(id2label), \n",
    "    ignore_mismatched_sizes=True, \n",
    "    problem_type=\"single_label_classification\"\n",
    ")\n",
    "tokenizer = AutoTokenizer.from_pretrained(model_name)\n",
    "\n",
    "get_model_size(model)"
   ]
  },
  {
   "cell_type": "markdown",
   "metadata": {},
   "source": [
    "Токенезируем тексты в датасете."
   ]
  },
  {
   "cell_type": "code",
   "execution_count": 22,
   "metadata": {},
   "outputs": [
    {
     "data": {
      "application/vnd.jupyter.widget-view+json": {
       "model_id": "1e1b542fdb9249b9bc113b2893d1da52",
       "version_major": 2,
       "version_minor": 0
      },
      "text/plain": [
       "Map:   0%|          | 0/315057 [00:00<?, ? examples/s]"
      ]
     },
     "metadata": {},
     "output_type": "display_data"
    },
    {
     "name": "stderr",
     "output_type": "stream",
     "text": [
      "Asking to truncate to max_length but no maximum length is provided and the model has no predefined maximum length. Default to no truncation.\n"
     ]
    },
    {
     "data": {
      "application/vnd.jupyter.widget-view+json": {
       "model_id": "43e0931e5ce94e3ead914d52f2638eb7",
       "version_major": 2,
       "version_minor": 0
      },
      "text/plain": [
       "Map:   0%|          | 0/39382 [00:00<?, ? examples/s]"
      ]
     },
     "metadata": {},
     "output_type": "display_data"
    },
    {
     "data": {
      "application/vnd.jupyter.widget-view+json": {
       "model_id": "77e199cce6254df3887229ea8ebd5c52",
       "version_major": 2,
       "version_minor": 0
      },
      "text/plain": [
       "Map:   0%|          | 0/39383 [00:00<?, ? examples/s]"
      ]
     },
     "metadata": {},
     "output_type": "display_data"
    }
   ],
   "source": [
    "def tokenize_function(example):\n",
    "    return tokenizer(example['sentence'], truncation=True)\n",
    "\n",
    "dataset_tokenize = dataset.map(tokenize_function, batched=True)\n",
    "dataset_tokenize = dataset_tokenize.remove_columns(['sentence'])\n",
    "\n",
    "collator = DataCollatorWithPadding(tokenizer=tokenizer)"
   ]
  },
  {
   "cell_type": "markdown",
   "metadata": {},
   "source": [
    "## Train"
   ]
  },
  {
   "cell_type": "markdown",
   "metadata": {},
   "source": [
    "Для того, что бы ускорить адаптацию модели под наши данные а так же снизить эффект катастрофического забывания, воспользуемся таким методом PEFT, как LoRA."
   ]
  },
  {
   "cell_type": "code",
   "execution_count": 23,
   "metadata": {},
   "outputs": [],
   "source": [
    "peft_config = LoraConfig(\n",
    "    task_type=TaskType.SEQ_CLS,\n",
    "    r=8,\n",
    "    lora_alpha=16,\n",
    "    target_modules=['attn.Wqkv'],\n",
    "    lora_dropout=.1,\n",
    "    bias='none', \n",
    ")\n",
    "\n",
    "model_lora = get_peft_model(model, peft_config)"
   ]
  },
  {
   "cell_type": "markdown",
   "metadata": {},
   "source": [
    "Обучать будем только выходной классификационный слой и адаптеры LoRA, поэтому заморозим градиенты на всех остальных слоях."
   ]
  },
  {
   "cell_type": "code",
   "execution_count": 24,
   "metadata": {},
   "outputs": [
    {
     "name": "stdout",
     "output_type": "stream",
     "text": [
      "Model_size: \u001b[1m150.15\u001b[0mM params || Trainable params: \u001b[1m0.55\u001b[0mM (\u001b[1m0.3662%\u001b[0m)\n",
      "\n",
      "\u001b[1mRequires grad:\u001b[0m\n",
      "True:  \u001b[1m48\u001b[0m\n",
      "False: \u001b[1m136\u001b[0m\n",
      "\n",
      "base_model.model.model.layers.0.attn.Wqkv.lora_A.default.weight     True\n",
      "base_model.model.model.layers.0.attn.Wqkv.lora_B.default.weight     True\n",
      "base_model.model.model.layers.1.attn.Wqkv.lora_A.default.weight     True\n",
      "base_model.model.model.layers.1.attn.Wqkv.lora_B.default.weight     True\n",
      "base_model.model.model.layers.2.attn.Wqkv.lora_A.default.weight     True\n",
      "base_model.model.model.layers.2.attn.Wqkv.lora_B.default.weight     True\n",
      "base_model.model.model.layers.3.attn.Wqkv.lora_A.default.weight     True\n",
      "base_model.model.model.layers.3.attn.Wqkv.lora_B.default.weight     True\n",
      "base_model.model.model.layers.4.attn.Wqkv.lora_A.default.weight     True\n",
      "base_model.model.model.layers.4.attn.Wqkv.lora_B.default.weight     True\n",
      "base_model.model.model.layers.5.attn.Wqkv.lora_A.default.weight     True\n",
      "base_model.model.model.layers.5.attn.Wqkv.lora_B.default.weight     True\n",
      "base_model.model.model.layers.6.attn.Wqkv.lora_A.default.weight     True\n",
      "base_model.model.model.layers.6.attn.Wqkv.lora_B.default.weight     True\n",
      "base_model.model.model.layers.7.attn.Wqkv.lora_A.default.weight     True\n",
      "base_model.model.model.layers.7.attn.Wqkv.lora_B.default.weight     True\n",
      "base_model.model.model.layers.8.attn.Wqkv.lora_A.default.weight     True\n",
      "base_model.model.model.layers.8.attn.Wqkv.lora_B.default.weight     True\n",
      "base_model.model.model.layers.9.attn.Wqkv.lora_A.default.weight     True\n",
      "base_model.model.model.layers.9.attn.Wqkv.lora_B.default.weight     True\n",
      "base_model.model.model.layers.10.attn.Wqkv.lora_A.default.weight    True\n",
      "base_model.model.model.layers.10.attn.Wqkv.lora_B.default.weight    True\n",
      "base_model.model.model.layers.11.attn.Wqkv.lora_A.default.weight    True\n",
      "base_model.model.model.layers.11.attn.Wqkv.lora_B.default.weight    True\n",
      "base_model.model.model.layers.12.attn.Wqkv.lora_A.default.weight    True\n",
      "base_model.model.model.layers.12.attn.Wqkv.lora_B.default.weight    True\n",
      "base_model.model.model.layers.13.attn.Wqkv.lora_A.default.weight    True\n",
      "base_model.model.model.layers.13.attn.Wqkv.lora_B.default.weight    True\n",
      "base_model.model.model.layers.14.attn.Wqkv.lora_A.default.weight    True\n",
      "base_model.model.model.layers.14.attn.Wqkv.lora_B.default.weight    True\n",
      "base_model.model.model.layers.15.attn.Wqkv.lora_A.default.weight    True\n",
      "base_model.model.model.layers.15.attn.Wqkv.lora_B.default.weight    True\n",
      "base_model.model.model.layers.16.attn.Wqkv.lora_A.default.weight    True\n",
      "base_model.model.model.layers.16.attn.Wqkv.lora_B.default.weight    True\n",
      "base_model.model.model.layers.17.attn.Wqkv.lora_A.default.weight    True\n",
      "base_model.model.model.layers.17.attn.Wqkv.lora_B.default.weight    True\n",
      "base_model.model.model.layers.18.attn.Wqkv.lora_A.default.weight    True\n",
      "base_model.model.model.layers.18.attn.Wqkv.lora_B.default.weight    True\n",
      "base_model.model.model.layers.19.attn.Wqkv.lora_A.default.weight    True\n",
      "base_model.model.model.layers.19.attn.Wqkv.lora_B.default.weight    True\n",
      "base_model.model.model.layers.20.attn.Wqkv.lora_A.default.weight    True\n",
      "base_model.model.model.layers.20.attn.Wqkv.lora_B.default.weight    True\n",
      "base_model.model.model.layers.21.attn.Wqkv.lora_A.default.weight    True\n",
      "base_model.model.model.layers.21.attn.Wqkv.lora_B.default.weight    True\n",
      "base_model.model.classifier.original_module.weight                  True\n",
      "base_model.model.classifier.original_module.bias                    True\n",
      "base_model.model.classifier.modules_to_save.default.weight          True\n",
      "base_model.model.classifier.modules_to_save.default.bias            True\n"
     ]
    }
   ],
   "source": [
    "model_lora.requires_grad_(False)\n",
    "model_lora.classifier.requires_grad_(True)\n",
    "for name, param in model_lora.named_parameters():\n",
    "    if \"lora\" in name:\n",
    "        param.requires_grad = True\n",
    "\n",
    "get_requires_grad(model_lora, only_true=True)"
   ]
  },
  {
   "cell_type": "markdown",
   "metadata": {},
   "source": [
    "Во время обучения будем отслеживать метрику `accuracy`."
   ]
  },
  {
   "cell_type": "code",
   "execution_count": 25,
   "metadata": {},
   "outputs": [],
   "source": [
    "metric = evaluate.load(\"accuracy\")\n",
    "\n",
    "def compute_metrics(eval_pred):\n",
    "    logits, labels = eval_pred\n",
    "    predictions = np.argmax(logits, axis=-1)\n",
    "    return metric.compute(predictions=predictions, references=labels)"
   ]
  },
  {
   "cell_type": "markdown",
   "metadata": {},
   "source": [
    "Так как стандартный Trainer из transformers при использовании PEFT делает чекпоинты только весов самих адаптеров, то определим callback, который позволит сохранять веса так же и для классификационной головы."
   ]
  },
  {
   "cell_type": "code",
   "execution_count": 26,
   "metadata": {},
   "outputs": [],
   "source": [
    "class SaveClassifierWeightsCallback(TrainerCallback):\n",
    "    def on_save(self, args, state, control, model=None, **kwargs):\n",
    "        \"\"\"Сохраняем веса слоя классификации после каждого сохранения чекпоинта.\"\"\"\n",
    "\n",
    "        checkpoint_dir = Path(args.output_dir) / f'checkpoint-{state.global_step}'\n",
    "        # Если директория {checkpoint_dir} еще не создана! Пропускаем сохранение.\n",
    "        if not checkpoint_dir.exists():\n",
    "            return\n",
    "\n",
    "        classifier_layer = model.base_model.model.classifier  # Достаем слой классификации\n",
    "        save_path = checkpoint_dir / 'classifier_weights.pt'\n",
    "\n",
    "        torch.save(classifier_layer.state_dict(), save_path)"
   ]
  },
  {
   "cell_type": "markdown",
   "metadata": {},
   "source": [
    "Для классификационного слоя будем использовать более высокий learning rate для ускорения адаптации, так как веса в данном слое были инициализированы случайными значениями."
   ]
  },
  {
   "cell_type": "code",
   "execution_count": 27,
   "metadata": {},
   "outputs": [],
   "source": [
    "params_group = [\n",
    "    {'params': [param for param in model_lora.model.model.parameters() if param.requires_grad],\n",
    "    'lr': 5e-5},\n",
    "\n",
    "    {'params': model_lora.classifier.parameters(),\n",
    "    'lr': 5e-4}\n",
    "]\n",
    "optimizer = optim.AdamW(params_group, weight_decay=.01)"
   ]
  },
  {
   "cell_type": "markdown",
   "metadata": {},
   "source": [
    "Эффективный размер батча для обучения возьмем в 128 (64 * 2) элементов. Используем косинусный шедулер для плавного снижения скорости обучения. Количество эпох возьмем равным 3."
   ]
  },
  {
   "cell_type": "code",
   "execution_count": 28,
   "metadata": {},
   "outputs": [],
   "source": [
    "training_args = TrainingArguments(\n",
    "    output_dir=\"./multiclass\",\n",
    "    overwrite_output_dir=True,\n",
    "    save_total_limit=3,\n",
    "    eval_strategy=\"steps\",\n",
    "    save_strategy=\"steps\",\n",
    "    save_safetensors=False,\n",
    "    logging_steps=1,\n",
    "    eval_steps=.1,\n",
    "    save_steps=.1,\n",
    "    lr_scheduler_type='cosine',\n",
    "    warmup_steps=30,\n",
    "    fp16=True,\n",
    "    per_device_train_batch_size=64,\n",
    "    per_device_eval_batch_size=64,\n",
    "    gradient_accumulation_steps=2,\n",
    "    num_train_epochs=3,\n",
    "    load_best_model_at_end=True,\n",
    "    metric_for_best_model=\"accuracy\",\n",
    "    seed=SEED,\n",
    ")\n",
    "\n",
    "trainer = Trainer(\n",
    "    model=model_lora,\n",
    "    args=training_args,\n",
    "    train_dataset=dataset_tokenize[\"train\"],\n",
    "    eval_dataset=dataset_tokenize[\"val\"],\n",
    "    data_collator=collator,\n",
    "    compute_metrics=compute_metrics,\n",
    "    optimizers=(optimizer, None),\n",
    "    callbacks=[SaveClassifierWeightsCallback()],\n",
    ")"
   ]
  },
  {
   "cell_type": "code",
   "execution_count": 29,
   "metadata": {},
   "outputs": [
    {
     "name": "stderr",
     "output_type": "stream",
     "text": [
      "/home/lake/anaconda3/envs/lime_test/lib/python3.11/site-packages/torch/nn/modules/linear.py:125: UserWarning: Attempting to use hipBLASLt on an unsupported architecture! Overriding blas backend to hipblas (Triggered internally at ../aten/src/ATen/Context.cpp:296.)\n",
      "  return F.linear(input, self.weight, self.bias)\n",
      "/home/lake/anaconda3/envs/lime_test/lib/python3.11/site-packages/transformers/models/modernbert/modeling_modernbert.py:436: UserWarning: Memory Efficient attention on Navi31 GPU is still experimental. Enable it with TORCH_ROCM_AOTRITON_ENABLE_EXPERIMENTAL=1. (Triggered internally at ../aten/src/ATen/native/transformers/hip/sdp_utils.cpp:269.)\n",
      "  F.scaled_dot_product_attention(\n"
     ]
    },
    {
     "data": {
      "text/html": [
       "\n",
       "    <div>\n",
       "      \n",
       "      <progress value='7383' max='7383' style='width:300px; height:20px; vertical-align: middle;'></progress>\n",
       "      [7383/7383 38:55, Epoch 2/3]\n",
       "    </div>\n",
       "    <table border=\"1\" class=\"dataframe\">\n",
       "  <thead>\n",
       " <tr style=\"text-align: left;\">\n",
       "      <th>Step</th>\n",
       "      <th>Training Loss</th>\n",
       "      <th>Validation Loss</th>\n",
       "      <th>Accuracy</th>\n",
       "    </tr>\n",
       "  </thead>\n",
       "  <tbody>\n",
       "    <tr>\n",
       "      <td>739</td>\n",
       "      <td>0.659500</td>\n",
       "      <td>0.239904</td>\n",
       "      <td>0.919532</td>\n",
       "    </tr>\n",
       "    <tr>\n",
       "      <td>1478</td>\n",
       "      <td>0.213700</td>\n",
       "      <td>0.125895</td>\n",
       "      <td>0.952186</td>\n",
       "    </tr>\n",
       "    <tr>\n",
       "      <td>2217</td>\n",
       "      <td>0.160500</td>\n",
       "      <td>0.098212</td>\n",
       "      <td>0.957392</td>\n",
       "    </tr>\n",
       "    <tr>\n",
       "      <td>2956</td>\n",
       "      <td>0.108300</td>\n",
       "      <td>0.091816</td>\n",
       "      <td>0.959728</td>\n",
       "    </tr>\n",
       "    <tr>\n",
       "      <td>3695</td>\n",
       "      <td>0.264400</td>\n",
       "      <td>0.080623</td>\n",
       "      <td>0.961861</td>\n",
       "    </tr>\n",
       "    <tr>\n",
       "      <td>4434</td>\n",
       "      <td>0.140900</td>\n",
       "      <td>0.074636</td>\n",
       "      <td>0.962242</td>\n",
       "    </tr>\n",
       "    <tr>\n",
       "      <td>5173</td>\n",
       "      <td>0.237800</td>\n",
       "      <td>0.071976</td>\n",
       "      <td>0.963080</td>\n",
       "    </tr>\n",
       "    <tr>\n",
       "      <td>5912</td>\n",
       "      <td>0.167300</td>\n",
       "      <td>0.070570</td>\n",
       "      <td>0.963029</td>\n",
       "    </tr>\n",
       "    <tr>\n",
       "      <td>6651</td>\n",
       "      <td>0.092700</td>\n",
       "      <td>0.069403</td>\n",
       "      <td>0.963791</td>\n",
       "    </tr>\n",
       "  </tbody>\n",
       "</table><p>"
      ],
      "text/plain": [
       "<IPython.core.display.HTML object>"
      ]
     },
     "metadata": {},
     "output_type": "display_data"
    },
    {
     "data": {
      "text/plain": [
       "TrainOutput(global_step=7383, training_loss=0.27043643793184274, metrics={'train_runtime': 2338.7231, 'train_samples_per_second': 404.14, 'train_steps_per_second': 3.157, 'total_flos': 3.608509812451128e+16, 'train_loss': 0.27043643793184274, 'epoch': 2.9989843591306116})"
      ]
     },
     "execution_count": 29,
     "metadata": {},
     "output_type": "execute_result"
    }
   ],
   "source": [
    "gc.collect()\n",
    "torch.cuda.empty_cache()\n",
    "\n",
    "trainer.train()"
   ]
  },
  {
   "cell_type": "markdown",
   "metadata": {},
   "source": [
    "Видим, что валидационный loss на всем протяжении обучения плавно снижался. Метрика Accuracy на валидации так же почти на всех итерациях снижалась, что говорит об отсутствии переобучения. Loss на тренировке прыгал, так как мы итерировались по шагам а не по эпохам."
   ]
  },
  {
   "cell_type": "markdown",
   "metadata": {},
   "source": [
    "## Test"
   ]
  },
  {
   "cell_type": "markdown",
   "metadata": {},
   "source": [
    "Перейдем к тестированию полученной модели.\n",
    "\n",
    "Для начала определим вспомогательные функции для получения предсказаний и значений метрик."
   ]
  },
  {
   "cell_type": "code",
   "execution_count": 29,
   "metadata": {},
   "outputs": [],
   "source": [
    "def get_predict(model, dataloader, device):\n",
    "    predictions = []\n",
    "\n",
    "    model.eval()\n",
    "    with torch.no_grad():\n",
    "        for batch in tqdm(dataloader, desc='predictions'):\n",
    "            batch = {k: v.to(device) for k, v in batch.items()}\n",
    "            logits = model(**batch).logits\n",
    "            pred = torch.argmax(logits, dim=1).cpu()\n",
    "            predictions.append(pred)\n",
    "\n",
    "    return torch.cat(predictions)"
   ]
  },
  {
   "cell_type": "code",
   "execution_count": 30,
   "metadata": {},
   "outputs": [],
   "source": [
    "def get_metrics(ground_truth, predictions, title: str):\n",
    "    print(colored(title.upper().center(60, '-'), 'light_blue', attrs=['bold']))\n",
    "    print(classification_report(ground_truth, \n",
    "                                predictions, \n",
    "                                digits=4, \n",
    "                                target_names=list(label2id.keys())\n",
    "                                ))\n",
    "\n",
    "    _, ax = plt.subplots(figsize=(5, 5))\n",
    "    ConfusionMatrixDisplay.from_predictions(\n",
    "        ground_truth, \n",
    "        predictions, \n",
    "        ax=ax, \n",
    "        cmap='Blues', \n",
    "        colorbar=False, \n",
    "        display_labels=list(label2id.keys())\n",
    "    )\n",
    "    plt.title('Confusion Matrix')\n",
    "    plt.grid(False)\n",
    "    plt.show()"
   ]
  },
  {
   "cell_type": "markdown",
   "metadata": {},
   "source": [
    "Подгрузим последнюю модель из сохраненного чекпоинта."
   ]
  },
  {
   "cell_type": "code",
   "execution_count": 31,
   "metadata": {},
   "outputs": [
    {
     "data": {
      "text/plain": [
       "<All keys matched successfully>"
      ]
     },
     "execution_count": 31,
     "metadata": {},
     "output_type": "execute_result"
    }
   ],
   "source": [
    "model_lora = PeftModel.from_pretrained(model, './multiclass/checkpoint-7383')\n",
    "\n",
    "load_state_cls = torch.load(\n",
    "    'multiclass/checkpoint-7383/classifier_weights.pt', \n",
    "    map_location=DEVICE, \n",
    "    weights_only=True\n",
    ")\n",
    "\n",
    "model_lora.base_model.model.classifier.load_state_dict(load_state_cls)\n"
   ]
  },
  {
   "cell_type": "markdown",
   "metadata": {},
   "source": [
    "Сделаем 2 даталоудера для возможности итерации по батчам."
   ]
  },
  {
   "cell_type": "code",
   "execution_count": 32,
   "metadata": {},
   "outputs": [],
   "source": [
    "gt_val = dataset_tokenize['val']['label']\n",
    "gt_test = dataset_tokenize['test']['label']\n",
    "\n",
    "val_dataset = dataset_tokenize['val'].remove_columns('label')\n",
    "test_dataset = dataset_tokenize['test'].remove_columns('label')\n",
    "\n",
    "val_loader = DataLoader(val_dataset, shuffle=False, batch_size=64, collate_fn=collator)\n",
    "test_loader = DataLoader(test_dataset, shuffle=False, batch_size=64, collate_fn=collator)"
   ]
  },
  {
   "cell_type": "markdown",
   "metadata": {},
   "source": [
    "Сделаем предсказания для валидационной и тестовой выборок."
   ]
  },
  {
   "cell_type": "code",
   "execution_count": 33,
   "metadata": {},
   "outputs": [
    {
     "data": {
      "application/vnd.jupyter.widget-view+json": {
       "model_id": "f2afc294822f4412a03e5dddfed84518",
       "version_major": 2,
       "version_minor": 0
      },
      "text/plain": [
       "predictions:   0%|          | 0/616 [00:00<?, ?it/s]"
      ]
     },
     "metadata": {},
     "output_type": "display_data"
    },
    {
     "name": "stderr",
     "output_type": "stream",
     "text": [
      "/home/lake/anaconda3/envs/lime_test/lib/python3.11/site-packages/torch/nn/modules/linear.py:125: UserWarning: Attempting to use hipBLASLt on an unsupported architecture! Overriding blas backend to hipblas (Triggered internally at ../aten/src/ATen/Context.cpp:296.)\n",
      "  return F.linear(input, self.weight, self.bias)\n",
      "/home/lake/anaconda3/envs/lime_test/lib/python3.11/site-packages/transformers/models/modernbert/modeling_modernbert.py:436: UserWarning: Memory Efficient attention on Navi31 GPU is still experimental. Enable it with TORCH_ROCM_AOTRITON_ENABLE_EXPERIMENTAL=1. (Triggered internally at ../aten/src/ATen/native/transformers/hip/sdp_utils.cpp:269.)\n",
      "  F.scaled_dot_product_attention(\n"
     ]
    },
    {
     "data": {
      "application/vnd.jupyter.widget-view+json": {
       "model_id": "34254c153c9842b797449b2fe54c5b1e",
       "version_major": 2,
       "version_minor": 0
      },
      "text/plain": [
       "predictions:   0%|          | 0/616 [00:00<?, ?it/s]"
      ]
     },
     "metadata": {},
     "output_type": "display_data"
    }
   ],
   "source": [
    "pred_val = get_predict(model_lora, val_loader, DEVICE)\n",
    "pred_test = get_predict(model_lora, test_loader, DEVICE)"
   ]
  },
  {
   "cell_type": "markdown",
   "metadata": {},
   "source": [
    "Для начала взглянем на результаты для валидационного датасета."
   ]
  },
  {
   "cell_type": "code",
   "execution_count": 34,
   "metadata": {},
   "outputs": [
    {
     "name": "stdout",
     "output_type": "stream",
     "text": [
      "\u001b[1m\u001b[94m---------------------VALIDATION DATASET---------------------\u001b[0m\n",
      "              precision    recall  f1-score   support\n",
      "\n",
      "       anger     0.9654    0.9639    0.9646      5478\n",
      "        fear     0.9367    0.9393    0.9380      4363\n",
      "         joy     0.9755    0.9713    0.9734     13503\n",
      "        love     0.9055    0.9199    0.9126      2947\n",
      "         sad     0.9827    0.9845    0.9836     11851\n",
      "     suprise     0.8802    0.8710    0.8756      1240\n",
      "\n",
      "    accuracy                         0.9637     39382\n",
      "   macro avg     0.9410    0.9416    0.9413     39382\n",
      "weighted avg     0.9637    0.9637    0.9637     39382\n",
      "\n"
     ]
    },
    {
     "data": {
      "image/png": "[encoded data removed]",
      "text/plain": [
       "<Figure size 500x500 with 1 Axes>"
      ]
     },
     "metadata": {},
     "output_type": "display_data"
    }
   ],
   "source": [
    "get_metrics(gt_val, pred_val, 'validation dataset')"
   ]
  },
  {
   "cell_type": "markdown",
   "metadata": {},
   "source": [
    "На валидации получаем метрику `accuracy` **0.9637**.  \n",
    "Видно, что для самого малочисленного класса `suprise` получилась самая низкая точность, что неудивительно, так как мы никак не учитывали дисбаланс классов. Но в целом, значение `f1` в **0.88** для самого малочисленного класса - это довольно неплохо. Для мажорных классов получили метрику `f1` в **0.97-0.98**.\n",
    "\n",
    "Теперь протестируем модель на отложенной тестовой выборке."
   ]
  },
  {
   "cell_type": "code",
   "execution_count": 35,
   "metadata": {},
   "outputs": [
    {
     "name": "stdout",
     "output_type": "stream",
     "text": [
      "\u001b[1m\u001b[94m------------------------TEST DATASET------------------------\u001b[0m\n",
      "              precision    recall  f1-score   support\n",
      "\n",
      "       anger     0.9626    0.9591    0.9609      5478\n",
      "        fear     0.9356    0.9388    0.9372      4363\n",
      "         joy     0.9757    0.9696    0.9727     13503\n",
      "        love     0.9020    0.9243    0.9130      2947\n",
      "         sad     0.9810    0.9828    0.9819     11851\n",
      "     suprise     0.8745    0.8703    0.8724      1241\n",
      "\n",
      "    accuracy                         0.9622     39383\n",
      "   macro avg     0.9386    0.9408    0.9397     39383\n",
      "weighted avg     0.9623    0.9622    0.9622     39383\n",
      "\n"
     ]
    },
    {
     "data": {
      "image/png": "[encoded data removed]",
      "text/plain": [
       "<Figure size 500x500 with 1 Axes>"
      ]
     },
     "metadata": {},
     "output_type": "display_data"
    }
   ],
   "source": [
    "get_metrics(gt_test, pred_test, 'test dataset')"
   ]
  },
  {
   "cell_type": "markdown",
   "metadata": {},
   "source": [
    "По сравнению с валидационной выборкой метрики на тесте практически не изменились, что говорит о том, что модель не переобучилась и в целом имеет довольно неплохую обобщающую способность.\n",
    "Итоговая точность `accuracy` составила **0.9622**.\n",
    "\n",
    "Анализируя матрицу ошибок можно сделать вывод, что наиболее часто модель путает между собой метки `joy` и `love` - это логично, так как эти эмоции имеют схожий эмоциональный окрас и могут содержать пересекающиеся характеристики.  \n",
    "Так же класс `surprise` чаще всего путается с `fear` - вероятно, это связано с тем, что удивление может проявляться схожим образом с испугом."
   ]
  },
  {
   "cell_type": "markdown",
   "metadata": {},
   "source": [
    "**Возможные улучшения:**\n",
    "- Учесть дисбаланс классов с помощью одного из следующих методов, либо их комбинации:\n",
    "    - семплирование данных\n",
    "    - установить большие веса в оптимизаторе для минорных классов\n",
    "    - использовать аугментации для минорных классов, например через обратный перевод (back translation)\n",
    "- Протестировать большее число предобученных моделей, возможно удастся найти лучший вариант.\n",
    "- Экспериментировать с параметрами обучения и PEFT. Т.к. датасет довольно большой можно попробовать обучать всю модель целиком, без использования адаптеров, используя разный lr для слоев на разной глубине. Но обучение в таком случае потребует больше вычислительных ресурсов."
   ]
  },
  {
   "cell_type": "markdown",
   "metadata": {},
   "source": []
  }
 ],
 "metadata": {
  "kernelspec": {
   "display_name": "lime_test",
   "language": "python",
   "name": "python3"
  },
  "language_info": {
   "codemirror_mode": {
    "name": "ipython",
    "version": 3
   },
   "file_extension": ".py",
   "mimetype": "text/x-python",
   "name": "python",
   "nbconvert_exporter": "python",
   "pygments_lexer": "ipython3",
   "version": "3.11.11"
  }
 },
 "nbformat": 4,
 "nbformat_minor": 2
}
