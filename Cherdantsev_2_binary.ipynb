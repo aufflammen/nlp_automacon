{
 "cells": [
  {
   "cell_type": "markdown",
   "metadata": {},
   "source": [
    "# 2. Texts classification (binary classification)"
   ]
  },
  {
   "cell_type": "markdown",
   "metadata": {},
   "source": [
    "Тестовое задание в компанию [**Automacon**](https://automacon.ru/).\n",
    "\n",
    "**Исходные данные:** [link](https://www.kaggle.com/datasets/kushagra3204/sentiment-and-emotion-analysis-dataset)\n",
    "\n",
    "**Задача:** обучить две модели классификации текстов для каждого из датасетов.\n",
    "\n",
    "В данном ноутбуке рассмотрена работа со вторым датасетом для бинарной классификации текстов."
   ]
  },
  {
   "cell_type": "markdown",
   "metadata": {},
   "source": [
    "## Imports"
   ]
  },
  {
   "cell_type": "code",
   "execution_count": 1,
   "metadata": {},
   "outputs": [],
   "source": [
    "import gc\n",
    "import matplotlib.pyplot as plt\n",
    "import seaborn as sns\n",
    "import pandas as pd\n",
    "import numpy as np\n",
    "from termcolor import colored\n",
    "from tqdm.auto import tqdm\n",
    "\n",
    "from sklearn.model_selection import train_test_split\n",
    "from sklearn.metrics import classification_report, ConfusionMatrixDisplay\n",
    "\n",
    "import torch\n",
    "from torch.utils.data import DataLoader\n",
    "\n",
    "from transformers import (\n",
    "    AutoModelForSequenceClassification,\n",
    "    AutoTokenizer,\n",
    "    DataCollatorWithPadding,\n",
    "    Trainer, \n",
    "    TrainingArguments,\n",
    ")\n",
    "\n",
    "from datasets import Dataset, DatasetDict\n",
    "import evaluate"
   ]
  },
  {
   "cell_type": "code",
   "execution_count": 2,
   "metadata": {},
   "outputs": [],
   "source": [
    "pd.set_option('display.max_colwidth', 100)\n",
    "\n",
    "sns.set_style('whitegrid')\n",
    "sns.set_palette('muted')"
   ]
  },
  {
   "cell_type": "markdown",
   "metadata": {},
   "source": [
    "## Functions"
   ]
  },
  {
   "cell_type": "code",
   "execution_count": 3,
   "metadata": {},
   "outputs": [],
   "source": [
    "def torch_device() -> str:\n",
    "    \"\"\"Вовзращает строку 'cuda' при наличии оборудования, иначе 'cpu'.\"\"\"\n",
    "    device = 'cuda' if torch.cuda.is_available() else 'cpu'\n",
    "    print(f\"torch use: {colored(device, 'green', attrs=['bold'])}\", \n",
    "          f\"({torch.cuda.get_device_name()})\"\n",
    "          if torch.cuda.is_available() else \"\")\n",
    "    return device"
   ]
  },
  {
   "cell_type": "code",
   "execution_count": 4,
   "metadata": {},
   "outputs": [],
   "source": [
    "def df_info(df: pd.DataFrame):\n",
    "    \"\"\"Вывод первых строк таблицы pandas и количества пропусков для каждой колонки.\"\"\"\n",
    "    display(df.head())\n",
    "    print(colored('Shape:', attrs=['bold']), df.shape, '\\n')\n",
    "    print(colored('Missing values:', attrs=['bold']))\n",
    "    print(df.isna().sum().to_string(index=True))"
   ]
  },
  {
   "cell_type": "code",
   "execution_count": 5,
   "metadata": {},
   "outputs": [],
   "source": [
    "def hist_box_chart(data: list[float | int], title: str | None = None) -> None:\n",
    "    \"\"\"Построение гистограммы и boxplot для списка значений.\"\"\"\n",
    "    fig, ax = plt.subplots(2, figsize=(11, 3.5), sharex=True, gridspec_kw={\"height_ratios\": (1, .15)})\n",
    "    \n",
    "    sns.histplot(data=data, ax=ax[0], kde=True, bins=min(150, np.unique(data).shape[0]), stat='density')\n",
    "    ax[0].axvline(x=np.median(data), color='black', alpha=.5, label=f'median ({np.median(data):.2f})')\n",
    "    ax[0].axvline(x=np.mean(data), color='black', alpha=.5, label=f'mean ({np.mean(data):.2f})', linestyle='dashed')\n",
    "    ax[0].set(title=title, xlabel='', ylabel='')\n",
    "    ax[0].legend()\n",
    "\n",
    "    sns.boxplot(data=data, ax=ax[1], boxprops={'alpha': .5}, orient='y')\n",
    "    ax[1].set(xlabel='count', ylabel='')"
   ]
  },
  {
   "cell_type": "code",
   "execution_count": 6,
   "metadata": {},
   "outputs": [],
   "source": [
    "class Ansi:\n",
    "    bold = '\\033[1m'\n",
    "    end = '\\033[0m'\n",
    "\n",
    "def get_model_size(model) -> str:\n",
    "    \"\"\"Вывод размера модели в миллионах параметров.\"\"\"\n",
    "    model_size = sum(p.numel() for p in model.parameters()) / 1e6\n",
    "    model_size_train = sum(p.numel() for p in model.parameters() if p.requires_grad) / 1e6\n",
    "    print(f\"Model_size: {Ansi.bold}{model_size:.2f}{Ansi.end}M params\", end='')\n",
    "\n",
    "    if model_size_train < model_size:\n",
    "        print(f\" || Trainable params: {Ansi.bold}{model_size_train:.2f}{Ansi.end}M \"\n",
    "              f\"({Ansi.bold}{model_size_train / model_size:.4%}{Ansi.end})\")\n",
    "\n",
    "\n",
    "def get_requires_grad(model, detail=True, only_true=False) -> str:\n",
    "    \"\"\"Вывод названий слоев модели для которых 'разморожены' градиенты.\"\"\"\n",
    "    params = {name: p.requires_grad for name, p in model.named_parameters()}\n",
    "    params = pd.Series(params)\n",
    "\n",
    "    get_model_size(model)\n",
    "\n",
    "    print(f\"\\n{Ansi.bold}Requires grad:{Ansi.end}\")\n",
    "    print(f\"True:  {Ansi.bold}{params.sum()}{Ansi.end}\")\n",
    "    print(f\"False: {Ansi.bold}{(~params).sum()}{Ansi.end}\")\n",
    "\n",
    "    if detail:\n",
    "        print()\n",
    "        if only_true:\n",
    "            print(params[params].to_string(index=True))\n",
    "        else:\n",
    "            print(params.to_string(index=True))\n"
   ]
  },
  {
   "cell_type": "code",
   "execution_count": 7,
   "metadata": {},
   "outputs": [
    {
     "name": "stdout",
     "output_type": "stream",
     "text": [
      "torch use: \u001b[1m\u001b[32mcuda\u001b[0m (AMD Radeon RX 7800 XT)\n"
     ]
    }
   ],
   "source": [
    "SEED = 42\n",
    "DEVICE = torch_device()"
   ]
  },
  {
   "cell_type": "code",
   "execution_count": 8,
   "metadata": {},
   "outputs": [],
   "source": [
    "np.random.seed(SEED)\n",
    "torch.manual_seed(SEED)\n",
    "torch.cuda.manual_seed_all(SEED)"
   ]
  },
  {
   "cell_type": "markdown",
   "metadata": {},
   "source": [
    "## Load data"
   ]
  },
  {
   "cell_type": "markdown",
   "metadata": {},
   "source": [
    "Загружаем данные."
   ]
  },
  {
   "cell_type": "code",
   "execution_count": 9,
   "metadata": {},
   "outputs": [],
   "source": [
    "data = pd.read_csv('combined_sentiment_data.csv')"
   ]
  },
  {
   "cell_type": "code",
   "execution_count": 10,
   "metadata": {},
   "outputs": [
    {
     "data": {
      "text/html": [
       "<div>\n",
       "<style scoped>\n",
       "    .dataframe tbody tr th:only-of-type {\n",
       "        vertical-align: middle;\n",
       "    }\n",
       "\n",
       "    .dataframe tbody tr th {\n",
       "        vertical-align: top;\n",
       "    }\n",
       "\n",
       "    .dataframe thead th {\n",
       "        text-align: right;\n",
       "    }\n",
       "</style>\n",
       "<table border=\"1\" class=\"dataframe\">\n",
       "  <thead>\n",
       "    <tr style=\"text-align: right;\">\n",
       "      <th></th>\n",
       "      <th>sentence</th>\n",
       "      <th>sentiment</th>\n",
       "    </tr>\n",
       "  </thead>\n",
       "  <tbody>\n",
       "    <tr>\n",
       "      <th>0</th>\n",
       "      <td>So there is no way for me to plug it in here in the US unless I go by a converter.</td>\n",
       "      <td>negative</td>\n",
       "    </tr>\n",
       "    <tr>\n",
       "      <th>1</th>\n",
       "      <td>Good case, Excellent value.</td>\n",
       "      <td>positive</td>\n",
       "    </tr>\n",
       "    <tr>\n",
       "      <th>2</th>\n",
       "      <td>Great for the jawbone.</td>\n",
       "      <td>positive</td>\n",
       "    </tr>\n",
       "    <tr>\n",
       "      <th>3</th>\n",
       "      <td>Tied to charger for conversations lasting more than 45 minutes.MAJOR PROBLEMS!!</td>\n",
       "      <td>negative</td>\n",
       "    </tr>\n",
       "    <tr>\n",
       "      <th>4</th>\n",
       "      <td>The mic is great.</td>\n",
       "      <td>positive</td>\n",
       "    </tr>\n",
       "  </tbody>\n",
       "</table>\n",
       "</div>"
      ],
      "text/plain": [
       "                                                                             sentence  \\\n",
       "0  So there is no way for me to plug it in here in the US unless I go by a converter.   \n",
       "1                                                         Good case, Excellent value.   \n",
       "2                                                              Great for the jawbone.   \n",
       "3     Tied to charger for conversations lasting more than 45 minutes.MAJOR PROBLEMS!!   \n",
       "4                                                                   The mic is great.   \n",
       "\n",
       "  sentiment  \n",
       "0  negative  \n",
       "1  positive  \n",
       "2  positive  \n",
       "3  negative  \n",
       "4  positive  "
      ]
     },
     "metadata": {},
     "output_type": "display_data"
    },
    {
     "name": "stdout",
     "output_type": "stream",
     "text": [
      "\u001b[1mShape:\u001b[0m (3309, 2) \n",
      "\n",
      "\u001b[1mMissing values:\u001b[0m\n",
      "sentence     0\n",
      "sentiment    0\n"
     ]
    }
   ],
   "source": [
    "df_info(data)"
   ]
  },
  {
   "cell_type": "markdown",
   "metadata": {},
   "source": [
    "Датасет довольно небольшой. Пропущенных значений в данных нет. Проверим наличие дубликатов."
   ]
  },
  {
   "cell_type": "code",
   "execution_count": 11,
   "metadata": {},
   "outputs": [
    {
     "name": "stdout",
     "output_type": "stream",
     "text": [
      "Количество полных дубликатов: 19\n",
      "Количество дубликатов в столбце sentence: 20\n"
     ]
    }
   ],
   "source": [
    "print('Количество полных дубликатов:', data.duplicated().sum())\n",
    "print('Количество дубликатов в столбце sentence:', data['sentence'].duplicated().sum())"
   ]
  },
  {
   "cell_type": "markdown",
   "metadata": {},
   "source": [
    "В данных присутствует некоторое количество дублей. Удалим их."
   ]
  },
  {
   "cell_type": "code",
   "execution_count": 12,
   "metadata": {},
   "outputs": [],
   "source": [
    "data = data.drop_duplicates(subset=['sentence'])"
   ]
  },
  {
   "cell_type": "code",
   "execution_count": 13,
   "metadata": {},
   "outputs": [
    {
     "data": {
      "image/png": "[encoded data removed]",
      "text/plain": [
       "<Figure size 640x480 with 1 Axes>"
      ]
     },
     "metadata": {},
     "output_type": "display_data"
    }
   ],
   "source": [
    "sns.barplot(data['sentiment'].value_counts(normalize=True))\n",
    "plt.title('Class distribution')\n",
    "plt.show()"
   ]
  },
  {
   "cell_type": "markdown",
   "metadata": {},
   "source": [
    "Соотношение классов практически 50 на 50."
   ]
  },
  {
   "cell_type": "code",
   "execution_count": 14,
   "metadata": {},
   "outputs": [
    {
     "data": {
      "image/png": "[encoded data removed]",
      "text/plain": [
       "<Figure size 1100x350 with 2 Axes>"
      ]
     },
     "metadata": {},
     "output_type": "display_data"
    }
   ],
   "source": [
    "cnt_words = [len(text.split()) for text in data['sentence'].tolist()]\n",
    "\n",
    "hist_box_chart(cnt_words, 'Count words')"
   ]
  },
  {
   "cell_type": "markdown",
   "metadata": {},
   "source": [
    "Средняя длина текста составляет примерно 12 слов. На графике присутствуют выбросы с правой стороны, это говорит о присутствии в выборке некоторого количество относительно длинных текстов.\n",
    "\n",
    "Составим словари для преобразования названия класса в индекс и обратно."
   ]
  },
  {
   "cell_type": "code",
   "execution_count": 15,
   "metadata": {},
   "outputs": [
    {
     "name": "stdout",
     "output_type": "stream",
     "text": [
      "{0: 'negative', 1: 'positive'}\n"
     ]
    }
   ],
   "source": [
    "id2label = {k: v for k, v in enumerate(sorted(data['sentiment'].unique()))}\n",
    "label2id = {v: k for k, v in id2label.items()}\n",
    "\n",
    "print(id2label)"
   ]
  },
  {
   "cell_type": "markdown",
   "metadata": {},
   "source": [
    "Целевой признак представим в виде числовых значений."
   ]
  },
  {
   "cell_type": "code",
   "execution_count": 16,
   "metadata": {},
   "outputs": [
    {
     "data": {
      "text/html": [
       "<div>\n",
       "<style scoped>\n",
       "    .dataframe tbody tr th:only-of-type {\n",
       "        vertical-align: middle;\n",
       "    }\n",
       "\n",
       "    .dataframe tbody tr th {\n",
       "        vertical-align: top;\n",
       "    }\n",
       "\n",
       "    .dataframe thead th {\n",
       "        text-align: right;\n",
       "    }\n",
       "</style>\n",
       "<table border=\"1\" class=\"dataframe\">\n",
       "  <thead>\n",
       "    <tr style=\"text-align: right;\">\n",
       "      <th></th>\n",
       "      <th>sentence</th>\n",
       "      <th>label</th>\n",
       "    </tr>\n",
       "  </thead>\n",
       "  <tbody>\n",
       "    <tr>\n",
       "      <th>0</th>\n",
       "      <td>So there is no way for me to plug it in here in the US unless I go by a converter.</td>\n",
       "      <td>0</td>\n",
       "    </tr>\n",
       "    <tr>\n",
       "      <th>1</th>\n",
       "      <td>Good case, Excellent value.</td>\n",
       "      <td>1</td>\n",
       "    </tr>\n",
       "    <tr>\n",
       "      <th>2</th>\n",
       "      <td>Great for the jawbone.</td>\n",
       "      <td>1</td>\n",
       "    </tr>\n",
       "    <tr>\n",
       "      <th>3</th>\n",
       "      <td>Tied to charger for conversations lasting more than 45 minutes.MAJOR PROBLEMS!!</td>\n",
       "      <td>0</td>\n",
       "    </tr>\n",
       "    <tr>\n",
       "      <th>4</th>\n",
       "      <td>The mic is great.</td>\n",
       "      <td>1</td>\n",
       "    </tr>\n",
       "  </tbody>\n",
       "</table>\n",
       "</div>"
      ],
      "text/plain": [
       "                                                                             sentence  \\\n",
       "0  So there is no way for me to plug it in here in the US unless I go by a converter.   \n",
       "1                                                         Good case, Excellent value.   \n",
       "2                                                              Great for the jawbone.   \n",
       "3     Tied to charger for conversations lasting more than 45 minutes.MAJOR PROBLEMS!!   \n",
       "4                                                                   The mic is great.   \n",
       "\n",
       "   label  \n",
       "0      0  \n",
       "1      1  \n",
       "2      1  \n",
       "3      0  \n",
       "4      1  "
      ]
     },
     "execution_count": 16,
     "metadata": {},
     "output_type": "execute_result"
    }
   ],
   "source": [
    "data['sentiment'] = data['sentiment'].apply(lambda x: label2id[x])\n",
    "data = data.rename(columns={'sentiment': 'label'})\n",
    "data.head()"
   ]
  },
  {
   "cell_type": "markdown",
   "metadata": {},
   "source": [
    "## Dataset"
   ]
  },
  {
   "cell_type": "markdown",
   "metadata": {},
   "source": [
    "Разделим исходный датасет на 3 выборки: train, val, test; в соотношении **70-15-15**."
   ]
  },
  {
   "cell_type": "code",
   "execution_count": 17,
   "metadata": {},
   "outputs": [],
   "source": [
    "train_data, val_test_data = train_test_split(\n",
    "    data, \n",
    "    test_size=.3, \n",
    "    shuffle=True, \n",
    "    random_state=SEED, \n",
    "    stratify=data['label']\n",
    ")\n",
    "\n",
    "val_data, test_data = train_test_split(\n",
    "    val_test_data, \n",
    "    test_size=.5, \n",
    "    shuffle=True, \n",
    "    random_state=SEED, \n",
    "    stratify=val_test_data['label']\n",
    ")"
   ]
  },
  {
   "cell_type": "code",
   "execution_count": 18,
   "metadata": {},
   "outputs": [
    {
     "data": {
      "text/plain": [
       "DatasetDict({\n",
       "    train: Dataset({\n",
       "        features: ['sentence', 'label'],\n",
       "        num_rows: 2302\n",
       "    })\n",
       "    val: Dataset({\n",
       "        features: ['sentence', 'label'],\n",
       "        num_rows: 493\n",
       "    })\n",
       "    test: Dataset({\n",
       "        features: ['sentence', 'label'],\n",
       "        num_rows: 494\n",
       "    })\n",
       "})"
      ]
     },
     "execution_count": 18,
     "metadata": {},
     "output_type": "execute_result"
    }
   ],
   "source": [
    "dataset = DatasetDict({\n",
    "    'train': Dataset.from_pandas(train_data, preserve_index=False),\n",
    "    'val': Dataset.from_pandas(val_data, preserve_index=False),\n",
    "    'test': Dataset.from_pandas(test_data, preserve_index=False),\n",
    "})\n",
    "\n",
    "dataset"
   ]
  },
  {
   "cell_type": "markdown",
   "metadata": {},
   "source": [
    "Будем использовать модель [**clapAI/modernBERT-base-multilingual-sentiment**](https://huggingface.co/clapAI/modernBERT-base-multilingual-sentiment), которая обучена на задачу sentiment analysis для классификации на 3 класса: Negative, Neutral, Positive. Т.к. нам достаточно только двух классов, то переопределим выходной классификационный слой."
   ]
  },
  {
   "cell_type": "code",
   "execution_count": 19,
   "metadata": {},
   "outputs": [
    {
     "name": "stderr",
     "output_type": "stream",
     "text": [
      "Some weights of ModernBertForSequenceClassification were not initialized from the model checkpoint at clapAI/modernBERT-base-multilingual-sentiment and are newly initialized because the shapes did not match:\n",
      "- classifier.bias: found shape torch.Size([3]) in the checkpoint and torch.Size([2]) in the model instantiated\n",
      "- classifier.weight: found shape torch.Size([3, 768]) in the checkpoint and torch.Size([2, 768]) in the model instantiated\n",
      "You should probably TRAIN this model on a down-stream task to be able to use it for predictions and inference.\n"
     ]
    },
    {
     "name": "stdout",
     "output_type": "stream",
     "text": [
      "Model_size: \u001b[1m149.61\u001b[0mM params"
     ]
    }
   ],
   "source": [
    "model_name = 'clapAI/modernBERT-base-multilingual-sentiment'\n",
    "\n",
    "model = AutoModelForSequenceClassification.from_pretrained(\n",
    "    model_name, \n",
    "    num_labels=2, \n",
    "    ignore_mismatched_sizes=True, \n",
    ")\n",
    "tokenizer = AutoTokenizer.from_pretrained(model_name)\n",
    "\n",
    "get_model_size(model)"
   ]
  },
  {
   "cell_type": "markdown",
   "metadata": {},
   "source": [
    "Токенезируем тексты в датасете."
   ]
  },
  {
   "cell_type": "code",
   "execution_count": 20,
   "metadata": {},
   "outputs": [
    {
     "data": {
      "application/vnd.jupyter.widget-view+json": {
       "model_id": "b736580aae7e4584b383f9be6db7c78a",
       "version_major": 2,
       "version_minor": 0
      },
      "text/plain": [
       "Map:   0%|          | 0/2302 [00:00<?, ? examples/s]"
      ]
     },
     "metadata": {},
     "output_type": "display_data"
    },
    {
     "name": "stderr",
     "output_type": "stream",
     "text": [
      "Asking to truncate to max_length but no maximum length is provided and the model has no predefined maximum length. Default to no truncation.\n"
     ]
    },
    {
     "data": {
      "application/vnd.jupyter.widget-view+json": {
       "model_id": "6b04448e2cd24b928fa3905bdbee6d72",
       "version_major": 2,
       "version_minor": 0
      },
      "text/plain": [
       "Map:   0%|          | 0/493 [00:00<?, ? examples/s]"
      ]
     },
     "metadata": {},
     "output_type": "display_data"
    },
    {
     "data": {
      "application/vnd.jupyter.widget-view+json": {
       "model_id": "a4c6340aae3349b4824f1d9b55a7719f",
       "version_major": 2,
       "version_minor": 0
      },
      "text/plain": [
       "Map:   0%|          | 0/494 [00:00<?, ? examples/s]"
      ]
     },
     "metadata": {},
     "output_type": "display_data"
    }
   ],
   "source": [
    "def tokenize_function(example):\n",
    "    return tokenizer(example['sentence'], truncation=True)\n",
    "\n",
    "dataset_tokenize = dataset.map(tokenize_function, batched=True)\n",
    "dataset_tokenize = dataset_tokenize.remove_columns(['sentence'])\n",
    "\n",
    "collator = DataCollatorWithPadding(tokenizer=tokenizer)"
   ]
  },
  {
   "cell_type": "markdown",
   "metadata": {},
   "source": [
    "## Train"
   ]
  },
  {
   "cell_type": "markdown",
   "metadata": {},
   "source": [
    "Т.к. наш датасет скромных размеров, то попытка обучения всей модели непременно приведет к переобучению.  \n",
    "Можно использовать дополнительные адаптеры, например LoRA иди Prefix-tune. Но так как задача sentiment analysis довольно распространенная, то предобученные модели справляются с ней уже достаточно хорошо. В нашем случае будет достаточно дообучить классификационный слой."
   ]
  },
  {
   "cell_type": "code",
   "execution_count": 21,
   "metadata": {},
   "outputs": [
    {
     "name": "stdout",
     "output_type": "stream",
     "text": [
      "Model_size: \u001b[1m149.61\u001b[0mM params || Trainable params: \u001b[1m0.00\u001b[0mM (\u001b[1m0.0010%\u001b[0m)\n",
      "\n",
      "\u001b[1mRequires grad:\u001b[0m\n",
      "True:  \u001b[1m2\u001b[0m\n",
      "False: \u001b[1m136\u001b[0m\n",
      "\n",
      "classifier.weight    True\n",
      "classifier.bias      True\n"
     ]
    }
   ],
   "source": [
    "model.requires_grad_(False)\n",
    "model.classifier.requires_grad_(True)\n",
    "\n",
    "get_requires_grad(model, only_true=True)"
   ]
  },
  {
   "cell_type": "markdown",
   "metadata": {},
   "source": [
    "Во время обучения будем отслеживать метрику `accuracy`."
   ]
  },
  {
   "cell_type": "code",
   "execution_count": 22,
   "metadata": {},
   "outputs": [],
   "source": [
    "metric = evaluate.load(\"accuracy\")\n",
    "\n",
    "def compute_metrics(eval_pred):\n",
    "    logits, labels = eval_pred\n",
    "    predictions = np.argmax(logits, axis=-1)\n",
    "    return metric.compute(predictions=predictions, references=labels)"
   ]
  },
  {
   "cell_type": "code",
   "execution_count": 23,
   "metadata": {},
   "outputs": [],
   "source": [
    "training_args = TrainingArguments(\n",
    "    output_dir=\"./binary\",\n",
    "    overwrite_output_dir=True,\n",
    "    save_total_limit=3,\n",
    "    eval_strategy=\"epoch\",\n",
    "    save_strategy=\"epoch\",\n",
    "    logging_steps=1,\n",
    "    lr_scheduler_type='cosine',\n",
    "    warmup_steps=20,\n",
    "    fp16=True,\n",
    "    learning_rate=4e-4,\n",
    "    weight_decay=.01,\n",
    "    per_device_train_batch_size=64,\n",
    "    per_device_eval_batch_size=64,\n",
    "    gradient_accumulation_steps=2,\n",
    "    num_train_epochs=10,\n",
    "    load_best_model_at_end=True,\n",
    "    metric_for_best_model=\"accuracy\",\n",
    "    seed=SEED,\n",
    ")\n",
    "\n",
    "trainer = Trainer(\n",
    "    model=model,\n",
    "    args=training_args,\n",
    "    train_dataset=dataset_tokenize[\"train\"],\n",
    "    eval_dataset=dataset_tokenize[\"val\"],\n",
    "    data_collator=collator,\n",
    "    compute_metrics=compute_metrics,\n",
    ")"
   ]
  },
  {
   "cell_type": "code",
   "execution_count": 24,
   "metadata": {},
   "outputs": [
    {
     "name": "stderr",
     "output_type": "stream",
     "text": [
      "/home/lake/anaconda3/envs/lime_test/lib/python3.11/site-packages/torch/nn/modules/linear.py:125: UserWarning: Attempting to use hipBLASLt on an unsupported architecture! Overriding blas backend to hipblas (Triggered internally at ../aten/src/ATen/Context.cpp:296.)\n",
      "  return F.linear(input, self.weight, self.bias)\n",
      "/home/lake/anaconda3/envs/lime_test/lib/python3.11/site-packages/transformers/models/modernbert/modeling_modernbert.py:436: UserWarning: Memory Efficient attention on Navi31 GPU is still experimental. Enable it with TORCH_ROCM_AOTRITON_ENABLE_EXPERIMENTAL=1. (Triggered internally at ../aten/src/ATen/native/transformers/hip/sdp_utils.cpp:269.)\n",
      "  F.scaled_dot_product_attention(\n"
     ]
    },
    {
     "data": {
      "text/html": [
       "\n",
       "    <div>\n",
       "      \n",
       "      <progress value='180' max='180' style='width:300px; height:20px; vertical-align: middle;'></progress>\n",
       "      [180/180 00:35, Epoch 10/10]\n",
       "    </div>\n",
       "    <table border=\"1\" class=\"dataframe\">\n",
       "  <thead>\n",
       " <tr style=\"text-align: left;\">\n",
       "      <th>Epoch</th>\n",
       "      <th>Training Loss</th>\n",
       "      <th>Validation Loss</th>\n",
       "      <th>Accuracy</th>\n",
       "    </tr>\n",
       "  </thead>\n",
       "  <tbody>\n",
       "    <tr>\n",
       "      <td>1</td>\n",
       "      <td>0.501000</td>\n",
       "      <td>0.315435</td>\n",
       "      <td>0.906694</td>\n",
       "    </tr>\n",
       "    <tr>\n",
       "      <td>2</td>\n",
       "      <td>0.168900</td>\n",
       "      <td>0.200837</td>\n",
       "      <td>0.937120</td>\n",
       "    </tr>\n",
       "    <tr>\n",
       "      <td>3</td>\n",
       "      <td>0.306600</td>\n",
       "      <td>0.196981</td>\n",
       "      <td>0.939148</td>\n",
       "    </tr>\n",
       "    <tr>\n",
       "      <td>4</td>\n",
       "      <td>0.152900</td>\n",
       "      <td>0.197485</td>\n",
       "      <td>0.943205</td>\n",
       "    </tr>\n",
       "    <tr>\n",
       "      <td>5</td>\n",
       "      <td>0.209600</td>\n",
       "      <td>0.198698</td>\n",
       "      <td>0.945233</td>\n",
       "    </tr>\n",
       "    <tr>\n",
       "      <td>6</td>\n",
       "      <td>0.271500</td>\n",
       "      <td>0.199425</td>\n",
       "      <td>0.945233</td>\n",
       "    </tr>\n",
       "    <tr>\n",
       "      <td>7</td>\n",
       "      <td>0.085100</td>\n",
       "      <td>0.199888</td>\n",
       "      <td>0.945233</td>\n",
       "    </tr>\n",
       "    <tr>\n",
       "      <td>8</td>\n",
       "      <td>0.339600</td>\n",
       "      <td>0.199763</td>\n",
       "      <td>0.945233</td>\n",
       "    </tr>\n",
       "    <tr>\n",
       "      <td>9</td>\n",
       "      <td>0.189200</td>\n",
       "      <td>0.199940</td>\n",
       "      <td>0.945233</td>\n",
       "    </tr>\n",
       "    <tr>\n",
       "      <td>10</td>\n",
       "      <td>0.254500</td>\n",
       "      <td>0.199944</td>\n",
       "      <td>0.945233</td>\n",
       "    </tr>\n",
       "  </tbody>\n",
       "</table><p>"
      ],
      "text/plain": [
       "<IPython.core.display.HTML object>"
      ]
     },
     "metadata": {},
     "output_type": "display_data"
    },
    {
     "data": {
      "text/plain": [
       "TrainOutput(global_step=180, training_loss=0.31337202220327326, metrics={'train_runtime': 38.081, 'train_samples_per_second': 604.5, 'train_steps_per_second': 4.727, 'total_flos': 750826636562856.0, 'train_loss': 0.31337202220327326, 'epoch': 10.0})"
      ]
     },
     "execution_count": 24,
     "metadata": {},
     "output_type": "execute_result"
    }
   ],
   "source": [
    "gc.collect()\n",
    "torch.cuda.empty_cache()\n",
    "\n",
    "trainer.train()"
   ]
  },
  {
   "cell_type": "markdown",
   "metadata": {},
   "source": [
    "Уже на 5 эпохе было достигнуто лучшее значение метрики Accuracy, которое до конца обучения осталось неизменным."
   ]
  },
  {
   "cell_type": "markdown",
   "metadata": {},
   "source": [
    "## Test"
   ]
  },
  {
   "cell_type": "markdown",
   "metadata": {},
   "source": [
    "Перейдем к тестированию полученной модели.\n",
    "\n",
    "Для начала определим вспомогательные функции для получения предсказаний и значений метрик."
   ]
  },
  {
   "cell_type": "code",
   "execution_count": 25,
   "metadata": {},
   "outputs": [],
   "source": [
    "def get_predict(model, dataloader, device):\n",
    "    predictions = []\n",
    "\n",
    "    model.eval()\n",
    "    with torch.no_grad():\n",
    "        for batch in tqdm(dataloader, desc='predictions'):\n",
    "            batch = {k: v.to(device) for k, v in batch.items()}\n",
    "            logits = model(**batch).logits\n",
    "            pred = torch.argmax(logits, dim=1).cpu()\n",
    "            predictions.append(pred)\n",
    "\n",
    "    return torch.cat(predictions)"
   ]
  },
  {
   "cell_type": "code",
   "execution_count": 26,
   "metadata": {},
   "outputs": [],
   "source": [
    "def get_metrics(ground_truth, predictions, title: str):\n",
    "    print(colored(title.upper().center(60, '-'), 'light_blue', attrs=['bold']))\n",
    "    print(classification_report(ground_truth, \n",
    "                                predictions, \n",
    "                                digits=4, \n",
    "                                target_names=list(label2id.keys())\n",
    "                                ))\n",
    "\n",
    "    _, ax = plt.subplots(figsize=(2.5, 2.5))\n",
    "    ConfusionMatrixDisplay.from_predictions(\n",
    "        ground_truth, \n",
    "        predictions, \n",
    "        ax=ax, \n",
    "        cmap='Blues', \n",
    "        colorbar=False, \n",
    "        display_labels=list(label2id.keys())\n",
    "    )\n",
    "    plt.title('Confusion Matrix')\n",
    "    plt.grid(False)\n",
    "    plt.show()"
   ]
  },
  {
   "cell_type": "markdown",
   "metadata": {},
   "source": [
    "Сделаем 2 даталоудера для возможности итерации по батчам."
   ]
  },
  {
   "cell_type": "code",
   "execution_count": 27,
   "metadata": {},
   "outputs": [],
   "source": [
    "gt_val = dataset_tokenize['val']['label']\n",
    "gt_test = dataset_tokenize['test']['label']\n",
    "\n",
    "val_dataset = dataset_tokenize['val'].remove_columns('label')\n",
    "test_dataset = dataset_tokenize['test'].remove_columns('label')\n",
    "\n",
    "val_loader = DataLoader(val_dataset, shuffle=False, batch_size=64, collate_fn=collator)\n",
    "test_loader = DataLoader(test_dataset, shuffle=False, batch_size=64, collate_fn=collator)"
   ]
  },
  {
   "cell_type": "markdown",
   "metadata": {},
   "source": [
    "Сделаем предсказания для валидационной и тестовой выборок."
   ]
  },
  {
   "cell_type": "code",
   "execution_count": 28,
   "metadata": {},
   "outputs": [
    {
     "data": {
      "application/vnd.jupyter.widget-view+json": {
       "model_id": "8ab29f619cf0487da4b736b300ff2f6e",
       "version_major": 2,
       "version_minor": 0
      },
      "text/plain": [
       "predictions:   0%|          | 0/8 [00:00<?, ?it/s]"
      ]
     },
     "metadata": {},
     "output_type": "display_data"
    },
    {
     "data": {
      "application/vnd.jupyter.widget-view+json": {
       "model_id": "02097edee6b84688858473867fa3fcc1",
       "version_major": 2,
       "version_minor": 0
      },
      "text/plain": [
       "predictions:   0%|          | 0/8 [00:00<?, ?it/s]"
      ]
     },
     "metadata": {},
     "output_type": "display_data"
    }
   ],
   "source": [
    "pred_val = get_predict(model, val_loader, DEVICE)\n",
    "pred_test = get_predict(model, test_loader, DEVICE)"
   ]
  },
  {
   "cell_type": "markdown",
   "metadata": {},
   "source": [
    "Для начала взглянем на результаты для валидационного датасета."
   ]
  },
  {
   "cell_type": "code",
   "execution_count": 29,
   "metadata": {},
   "outputs": [
    {
     "name": "stdout",
     "output_type": "stream",
     "text": [
      "\u001b[1m\u001b[94m---------------------VALIDATION DATASET---------------------\u001b[0m\n",
      "              precision    recall  f1-score   support\n",
      "\n",
      "    negative     0.9355    0.9547    0.9450       243\n",
      "    positive     0.9551    0.9360    0.9455       250\n",
      "\n",
      "    accuracy                         0.9452       493\n",
      "   macro avg     0.9453    0.9454    0.9452       493\n",
      "weighted avg     0.9454    0.9452    0.9452       493\n",
      "\n"
     ]
    },
    {
     "data": {
      "image/png": "[encoded data removed]",
      "text/plain": [
       "<Figure size 250x250 with 1 Axes>"
      ]
     },
     "metadata": {},
     "output_type": "display_data"
    }
   ],
   "source": [
    "get_metrics(gt_val, pred_val, 'validation dataset')"
   ]
  },
  {
   "cell_type": "markdown",
   "metadata": {},
   "source": [
    "На валидации получаем метрику `Accuracy` **0.9452**.  \n",
    "Значения `Precision` и `Recall` получились достаточно близкими по значению, что говорит о том, что модель довольно стабильна и не имеет явного перекоса в сторону ложноположительных или ложноотрицательных предсказаний.\n",
    "\n",
    "Теперь протестируем модель на отложенной тестовой выборке."
   ]
  },
  {
   "cell_type": "code",
   "execution_count": 30,
   "metadata": {},
   "outputs": [
    {
     "name": "stdout",
     "output_type": "stream",
     "text": [
      "\u001b[1m\u001b[94m------------------------TEST DATASET------------------------\u001b[0m\n",
      "              precision    recall  f1-score   support\n",
      "\n",
      "    negative     0.9673    0.9713    0.9693       244\n",
      "    positive     0.9719    0.9680    0.9699       250\n",
      "\n",
      "    accuracy                         0.9696       494\n",
      "   macro avg     0.9696    0.9697    0.9696       494\n",
      "weighted avg     0.9696    0.9696    0.9696       494\n",
      "\n"
     ]
    },
    {
     "data": {
      "image/png": "[encoded data removed]",
      "text/plain": [
       "<Figure size 250x250 with 1 Axes>"
      ]
     },
     "metadata": {},
     "output_type": "display_data"
    }
   ],
   "source": [
    "get_metrics(gt_test, pred_test, 'test dataset')"
   ]
  },
  {
   "cell_type": "markdown",
   "metadata": {},
   "source": [
    "Метрика `Accuracy` на тестовой выборке получилась даже немного выше, чем на валидации, и составила **0.9696**, такое улучшение вероятно связано с тем, что наш датасет невелик и в тестовую часть попали более простые примеры.  \n",
    "Ошибки False Positive и False Negative здесь так же распределились примерно поровну."
   ]
  },
  {
   "cell_type": "markdown",
   "metadata": {},
   "source": []
  }
 ],
 "metadata": {
  "kernelspec": {
   "display_name": "lime_test",
   "language": "python",
   "name": "python3"
  },
  "language_info": {
   "codemirror_mode": {
    "name": "ipython",
    "version": 3
   },
   "file_extension": ".py",
   "mimetype": "text/x-python",
   "name": "python",
   "nbconvert_exporter": "python",
   "pygments_lexer": "ipython3",
   "version": "3.11.11"
  }
 },
 "nbformat": 4,
 "nbformat_minor": 2
}
